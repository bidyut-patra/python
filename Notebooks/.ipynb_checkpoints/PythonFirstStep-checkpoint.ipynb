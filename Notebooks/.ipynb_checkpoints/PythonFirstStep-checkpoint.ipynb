{
 "cells": [
  {
   "cell_type": "markdown",
   "metadata": {},
   "source": [
    "# Learning\n",
    "\n",
    "This is my first step toward learning python3 using jupyter notebook"
   ]
  },
  {
   "cell_type": "markdown",
   "metadata": {},
   "source": [
    "## Hello World Example"
   ]
  },
  {
   "cell_type": "code",
   "execution_count": 3,
   "metadata": {},
   "outputs": [
    {
     "name": "stdout",
     "output_type": "stream",
     "text": [
      "Hello, Bidyut\n",
      "\n"
     ]
    }
   ],
   "source": [
    "myName = \"Bidyut\"\n",
    "helloText = \"Hello, \" + myName\n",
    "print(helloText, end=\"\\n\\n\")\n",
    "x = 10"
   ]
  },
  {
   "cell_type": "markdown",
   "metadata": {},
   "source": [
    "# Loop Test"
   ]
  },
  {
   "cell_type": "code",
   "execution_count": 4,
   "metadata": {},
   "outputs": [
    {
     "name": "stdout",
     "output_type": "stream",
     "text": [
      "x = 11, j = 1\n",
      "x = 13, j = 2\n",
      "x = 16, j = 3\n",
      "x = 20, j = 4\n",
      "x = 25, j = 5\n",
      "x = 31, j = 6\n",
      "x = 38, j = 7\n",
      "x = 46, j = 8\n",
      "x = 55, j = 9\n"
     ]
    }
   ],
   "source": [
    "for j in range(1, 10):\n",
    "    x = x + j;\n",
    "    print(\"x = {0}, j = {1}\".format(x, j))"
   ]
  },
  {
   "cell_type": "code",
   "execution_count": null,
   "metadata": {},
   "outputs": [],
   "source": []
  }
 ],
 "metadata": {
  "kernelspec": {
   "display_name": "Python 3",
   "language": "python",
   "name": "python3"
  },
  "language_info": {
   "codemirror_mode": {
    "name": "ipython",
    "version": 3
   },
   "file_extension": ".py",
   "mimetype": "text/x-python",
   "name": "python",
   "nbconvert_exporter": "python",
   "pygments_lexer": "ipython3",
   "version": "3.7.1"
  }
 },
 "nbformat": 4,
 "nbformat_minor": 4
}
