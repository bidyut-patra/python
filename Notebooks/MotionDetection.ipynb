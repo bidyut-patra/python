{
 "cells": [
  {
   "cell_type": "markdown",
   "metadata": {},
   "source": [
    "# Detect video frames"
   ]
  },
  {
   "cell_type": "code",
   "execution_count": 7,
   "metadata": {},
   "outputs": [
    {
     "name": "stdout",
     "output_type": "stream",
     "text": [
      "8\n"
     ]
    }
   ],
   "source": [
    "import cv2, time, pandas\n",
    "from datetime import datetime\n",
    "\n",
    "video = cv2.VideoCapture(0)\n",
    "\n",
    "initial_frame = None\n",
    "frameCount = 1\n",
    "times = []\n",
    "prevStatus = 0\n",
    "currentStatus = 0\n",
    "\n",
    "while True:\n",
    "    frameCount = frameCount + 1\n",
    "    check, frame = video.read()\n",
    "    \n",
    "    gray_img = cv2.cvtColor(frame, cv2.COLOR_BGR2GRAY)\n",
    "    gaussian_img = cv2.GaussianBlur(gray_img, (21,21), 0)      \n",
    "    \n",
    "    if(initial_frame is None):\n",
    "        initial_frame = gaussian_img # save initial image\n",
    "        continue\n",
    "        \n",
    "    # capture the difference between initial frame and subsequent frames\n",
    "    frame_diff = cv2.absdiff(initial_frame, gaussian_img)\n",
    "    \n",
    "    # provides threshold such that pixel difference value with less than 30 will be turned black\n",
    "    # and if the pixel difference value is > 30 then those pixels will be turned white.\n",
    "    thresh_delta = cv2.threshold(frame_diff, 30, 255, cv2.THRESH_BINARY)[1]\n",
    "    thresh_delta = cv2.dilate(thresh_delta, None, iterations=0)\n",
    "    \n",
    "    # defines the contour or the borders for the objects\n",
    "    (cnts,_) = cv2.findContours(thresh_delta.copy(), cv2.RETR_EXTERNAL, cv2.CHAIN_APPROX_SIMPLE)\n",
    "    \n",
    "    for contour in cnts:\n",
    "        if(cv2.contourArea(contour) < 1000): # remove noises and shadows\n",
    "            continue\n",
    "        # save current status\n",
    "        currentStatus = 1\n",
    "        # find object rectangle areas\n",
    "        (x, y, w, h) = cv2.boundingRect(contour)\n",
    "        cv2.rectangle(frame, (x,y), (x+w,y+h), (0,255,0), 3)\n",
    "    \n",
    "    # This means object appeared infront of camera\n",
    "    if ((prevStatus == 0) and (currentStatus == 1)): \n",
    "        times.append(datetime.now())\n",
    "        prevStatus = currentStatus\n",
    "\n",
    "        \n",
    "    # This means object disappeared\n",
    "    if ((prevStatus == 1) and (currentStatus == 0)):\n",
    "        times.append(datetime.now())\n",
    "        prevStatus = currentStatus\n",
    "        \n",
    "    currentStatus = 0\n",
    "        \n",
    "    cv2.imshow(\"Frame\", frame)\n",
    "    cv2.imshow(\"Gaussian\", gaussian_img)\n",
    "    cv2.imshow(\"Delta\", frame_diff)\n",
    "    cv2.imshow(\"Threshold\", thresh_delta)\n",
    "        \n",
    "    key = cv2.waitKey(1)\n",
    "    \n",
    "    if(key == ord('q')):\n",
    "        break\n",
    "\n",
    "print(len(times))\n",
    "\n",
    "# Now use pandas to generate CSV file with the duration of object appearing infront of the camera\n",
    "df = pandas.DataFrame(columns=[\"StartTime\", \"EndTime\"])\n",
    "for i in range(0, len(times), 2):\n",
    "    df = df.append({ \"StartTime\": times[i], \"EndTime\": times[i+1] }, ignore_index=True)\n",
    "    \n",
    "df.to_csv(\"times.csv\")\n",
    "\n",
    "# cv2.waitKey(0)\n",
    "\n",
    "# print(frameCount)\n",
    "\n",
    "video.release()\n",
    "\n",
    "cv2.destroyAllWindows()"
   ]
  },
  {
   "cell_type": "code",
   "execution_count": null,
   "metadata": {},
   "outputs": [],
   "source": []
  }
 ],
 "metadata": {
  "kernelspec": {
   "display_name": "Python 3",
   "language": "python",
   "name": "python3"
  },
  "language_info": {
   "codemirror_mode": {
    "name": "ipython",
    "version": 3
   },
   "file_extension": ".py",
   "mimetype": "text/x-python",
   "name": "python",
   "nbconvert_exporter": "python",
   "pygments_lexer": "ipython3",
   "version": "3.7.1"
  }
 },
 "nbformat": 4,
 "nbformat_minor": 4
}
